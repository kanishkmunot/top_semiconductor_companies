{
 "cells": [
  {
   "cell_type": "markdown",
   "id": "50d24581-8079-474d-a8d5-951762a16e02",
   "metadata": {},
   "source": [
    "# Top Semiconductor Companies"
   ]
  },
  {
   "cell_type": "markdown",
   "id": "9ac0da3e-5c08-44bd-a2f9-251906562831",
   "metadata": {},
   "source": [
    "> * In this project, i have scraped 'https://stockanalysis.com/stocks/industry/semiconductors/'\n",
    "> * I have used BeautifulSoup and requests module for Web Scraping\n",
    "> * After acraping and extracting information, i have also created a csv file with proper structure"
   ]
  },
  {
   "cell_type": "code",
   "execution_count": 1,
   "id": "413ee15e-7b47-4a1f-8414-47324b326bc2",
   "metadata": {},
   "outputs": [],
   "source": [
    "import pandas as pd\n",
    "import requests \n",
    "from bs4 import BeautifulSoup"
   ]
  },
  {
   "cell_type": "code",
   "execution_count": 2,
   "id": "4ec289f7-2584-4b86-9004-594242a28f33",
   "metadata": {},
   "outputs": [
    {
     "data": {
      "text/plain": [
       "200"
      ]
     },
     "execution_count": 2,
     "metadata": {},
     "output_type": "execute_result"
    }
   ],
   "source": [
    "url = 'https://stockanalysis.com/stocks/industry/semiconductors/'\n",
    "response = requests.get(url)\n",
    "response.status_code"
   ]
  },
  {
   "cell_type": "code",
   "execution_count": 3,
   "id": "519bae4c-b9b7-4329-9213-5423b149a5fc",
   "metadata": {},
   "outputs": [],
   "source": [
    "page_content = response.text"
   ]
  },
  {
   "cell_type": "code",
   "execution_count": 4,
   "id": "a7653986-9ba4-46e0-987d-d88e2a96b62d",
   "metadata": {},
   "outputs": [],
   "source": [
    "soup=BeautifulSoup(page_content,'html.parser')"
   ]
  },
  {
   "cell_type": "code",
   "execution_count": 5,
   "id": "34647894-f925-42d9-a6b7-d84331c8c17f",
   "metadata": {},
   "outputs": [],
   "source": [
    "symbols = []\n",
    "companies = []\n",
    "market_cap = []\n",
    "volume = []\n",
    "revenue = []\n",
    "for i in soup.find_all('tr', {'class': 'svelte-eurwtr'}):\n",
    "    td_elements = i.find_all('td')\n",
    "    if td_elements:\n",
    "        symbols.append(td_elements[1].a.text.strip())\n",
    "        companies.append(td_elements[2].text.strip())\n",
    "        market_cap.append(td_elements[3].text.strip())\n",
    "        volume.append(td_elements[5].text.strip())\n",
    "        revenue.append(td_elements[6].text.strip())"
   ]
  },
  {
   "cell_type": "code",
   "execution_count": 6,
   "id": "9c90d576-58a2-4821-af13-63a45f33c99e",
   "metadata": {},
   "outputs": [
    {
     "data": {
      "text/plain": [
       "'NVIDIA Corporation'"
      ]
     },
     "execution_count": 6,
     "metadata": {},
     "output_type": "execute_result"
    }
   ],
   "source": [
    "companies[0]"
   ]
  },
  {
   "cell_type": "code",
   "execution_count": 7,
   "id": "6b02cb69-c83a-49b9-ae43-43102f2b6cbf",
   "metadata": {},
   "outputs": [
    {
     "data": {
      "text/plain": [
       "['NVDA',\n",
       " 'TSM',\n",
       " 'AVGO',\n",
       " 'AMD',\n",
       " 'QCOM',\n",
       " 'TXN',\n",
       " 'ARM',\n",
       " 'MU',\n",
       " 'INTC',\n",
       " 'ADI',\n",
       " 'NXPI',\n",
       " 'MRVL',\n",
       " 'MCHP',\n",
       " 'MPWR',\n",
       " 'STM',\n",
       " 'ON',\n",
       " 'GFS',\n",
       " 'ASX',\n",
       " 'UMC',\n",
       " 'SWKS',\n",
       " 'QRVO',\n",
       " 'ALAB',\n",
       " 'MTSI',\n",
       " 'LSCC',\n",
       " 'CRUS',\n",
       " 'RMBS',\n",
       " 'ALGM',\n",
       " 'CRDO',\n",
       " 'FORM',\n",
       " 'TSEM',\n",
       " 'POWI',\n",
       " 'SLAB',\n",
       " 'SYNA',\n",
       " 'DIOD',\n",
       " 'VSH',\n",
       " 'WOLF',\n",
       " 'SITM',\n",
       " 'SIMO',\n",
       " 'SMTC',\n",
       " 'MXL',\n",
       " 'HIMX',\n",
       " 'SGH',\n",
       " 'AOSL',\n",
       " 'IMOS',\n",
       " 'NVTS',\n",
       " 'LASR',\n",
       " 'ICG',\n",
       " 'CEVA',\n",
       " 'SKYT',\n",
       " 'NVEC',\n",
       " 'VLN',\n",
       " 'AIP',\n",
       " 'GCTS',\n",
       " 'MX',\n",
       " 'QUIK',\n",
       " 'POET',\n",
       " 'MRAM',\n",
       " 'GSIT',\n",
       " 'PXLW',\n",
       " 'MOBX',\n",
       " 'SQNS',\n",
       " 'NA',\n",
       " 'WKEY',\n",
       " 'LAES',\n",
       " 'WISA',\n",
       " 'EMKR',\n",
       " 'LEDS',\n",
       " 'PRSO']"
      ]
     },
     "execution_count": 7,
     "metadata": {},
     "output_type": "execute_result"
    }
   ],
   "source": [
    "symbols"
   ]
  },
  {
   "cell_type": "code",
   "execution_count": 8,
   "id": "fcabfa3d-7cd4-4892-970d-66d81fac849e",
   "metadata": {},
   "outputs": [],
   "source": [
    "dict = {'symbol':symbols,'company':companies,'market_cap':market_cap,'revenue':revenue,'volume':volume}"
   ]
  },
  {
   "cell_type": "code",
   "execution_count": 9,
   "id": "8f3df901-6db1-48d4-8a94-7c71db12fa37",
   "metadata": {},
   "outputs": [],
   "source": [
    "df = pd.DataFrame(dict)"
   ]
  },
  {
   "cell_type": "code",
   "execution_count": 10,
   "id": "7f486b0f-9e37-4965-b24a-4e1f39726e9d",
   "metadata": {
    "scrolled": true
   },
   "outputs": [
    {
     "data": {
      "text/html": [
       "<div>\n",
       "<style scoped>\n",
       "    .dataframe tbody tr th:only-of-type {\n",
       "        vertical-align: middle;\n",
       "    }\n",
       "\n",
       "    .dataframe tbody tr th {\n",
       "        vertical-align: top;\n",
       "    }\n",
       "\n",
       "    .dataframe thead th {\n",
       "        text-align: right;\n",
       "    }\n",
       "</style>\n",
       "<table border=\"1\" class=\"dataframe\">\n",
       "  <thead>\n",
       "    <tr style=\"text-align: right;\">\n",
       "      <th></th>\n",
       "      <th>symbol</th>\n",
       "      <th>company</th>\n",
       "      <th>market_cap</th>\n",
       "      <th>revenue</th>\n",
       "      <th>volume</th>\n",
       "    </tr>\n",
       "  </thead>\n",
       "  <tbody>\n",
       "    <tr>\n",
       "      <th>0</th>\n",
       "      <td>NVDA</td>\n",
       "      <td>NVIDIA Corporation</td>\n",
       "      <td>3,057.78B</td>\n",
       "      <td>79.77B</td>\n",
       "      <td>277,422,442</td>\n",
       "    </tr>\n",
       "    <tr>\n",
       "      <th>1</th>\n",
       "      <td>TSM</td>\n",
       "      <td>Taiwan Semiconductor Manufacturing Company Lim...</td>\n",
       "      <td>770.32B</td>\n",
       "      <td>70.20B</td>\n",
       "      <td>10,653,356</td>\n",
       "    </tr>\n",
       "    <tr>\n",
       "      <th>2</th>\n",
       "      <td>AVGO</td>\n",
       "      <td>Broadcom Inc.</td>\n",
       "      <td>763.77B</td>\n",
       "      <td>42.62B</td>\n",
       "      <td>4,671,400</td>\n",
       "    </tr>\n",
       "    <tr>\n",
       "      <th>3</th>\n",
       "      <td>AMD</td>\n",
       "      <td>Advanced Micro Devices, Inc.</td>\n",
       "      <td>254.88B</td>\n",
       "      <td>22.80B</td>\n",
       "      <td>49,435,516</td>\n",
       "    </tr>\n",
       "    <tr>\n",
       "      <th>4</th>\n",
       "      <td>QCOM</td>\n",
       "      <td>QUALCOMM Incorporated</td>\n",
       "      <td>223.23B</td>\n",
       "      <td>36.41B</td>\n",
       "      <td>6,677,775</td>\n",
       "    </tr>\n",
       "  </tbody>\n",
       "</table>\n",
       "</div>"
      ],
      "text/plain": [
       "  symbol                                            company market_cap  \\\n",
       "0   NVDA                                 NVIDIA Corporation  3,057.78B   \n",
       "1    TSM  Taiwan Semiconductor Manufacturing Company Lim...    770.32B   \n",
       "2   AVGO                                      Broadcom Inc.    763.77B   \n",
       "3    AMD                       Advanced Micro Devices, Inc.    254.88B   \n",
       "4   QCOM                              QUALCOMM Incorporated    223.23B   \n",
       "\n",
       "  revenue       volume  \n",
       "0  79.77B  277,422,442  \n",
       "1  70.20B   10,653,356  \n",
       "2  42.62B    4,671,400  \n",
       "3  22.80B   49,435,516  \n",
       "4  36.41B    6,677,775  "
      ]
     },
     "execution_count": 10,
     "metadata": {},
     "output_type": "execute_result"
    }
   ],
   "source": [
    "df.head()"
   ]
  },
  {
   "cell_type": "code",
   "execution_count": 11,
   "id": "e48d918e-a531-4be0-9aae-dff1fd52ab38",
   "metadata": {},
   "outputs": [],
   "source": [
    "df.to_csv('semiconductor.csv')"
   ]
  }
 ],
 "metadata": {
  "kernelspec": {
   "display_name": "Python 3 (ipykernel)",
   "language": "python",
   "name": "python3"
  },
  "language_info": {
   "codemirror_mode": {
    "name": "ipython",
    "version": 3
   },
   "file_extension": ".py",
   "mimetype": "text/x-python",
   "name": "python",
   "nbconvert_exporter": "python",
   "pygments_lexer": "ipython3",
   "version": "3.11.5"
  }
 },
 "nbformat": 4,
 "nbformat_minor": 5
}
